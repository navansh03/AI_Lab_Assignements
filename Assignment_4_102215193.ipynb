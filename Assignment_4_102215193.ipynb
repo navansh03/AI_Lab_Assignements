{
  "nbformat": 4,
  "nbformat_minor": 0,
  "metadata": {
    "colab": {
      "provenance": [],
      "authorship_tag": "ABX9TyO10YjL38EwfiPd5u+sUuOu",
      "include_colab_link": true
    },
    "kernelspec": {
      "name": "python3",
      "display_name": "Python 3"
    },
    "language_info": {
      "name": "python"
    }
  },
  "cells": [
    {
      "cell_type": "markdown",
      "metadata": {
        "id": "view-in-github",
        "colab_type": "text"
      },
      "source": [
        "<a href=\"https://colab.research.google.com/github/navansh03/AI_Lab_Assignements/blob/main/Assignment_4_102215193.ipynb\" target=\"_parent\"><img src=\"https://colab.research.google.com/assets/colab-badge.svg\" alt=\"Open In Colab\"/></a>"
      ]
    },
    {
      "cell_type": "markdown",
      "source": [
        "#**Assignment_4**"
      ],
      "metadata": {
        "id": "rkoeM7UbqOAm"
      }
    },
    {
      "cell_type": "markdown",
      "source": [
        "####Q1. Write a Program to Implement Breadth First Search using Python.\n",
        "\n",
        "####Q2. Write a Program to Implement Depth First Search using Python.\n"
      ],
      "metadata": {
        "id": "GTLn8mLJqS9Z"
      }
    },
    {
      "cell_type": "code",
      "source": [
        "graph = {\n",
        "  '5' : ['3','7'],\n",
        "  '3' : ['2', '4'],\n",
        "  '7' : ['8'],\n",
        "  '2' : [],\n",
        "  '4' : ['8'],\n",
        "  '8' : []\n",
        "}"
      ],
      "metadata": {
        "id": "EtPnthl5q-A-"
      },
      "execution_count": 16,
      "outputs": []
    },
    {
      "cell_type": "markdown",
      "source": [
        "BFS"
      ],
      "metadata": {
        "id": "QHZJPLKIqmqK"
      }
    },
    {
      "cell_type": "code",
      "execution_count": 17,
      "metadata": {
        "id": "eNexF4ixlauJ"
      },
      "outputs": [],
      "source": [
        "visited = []\n",
        "queue = []\n",
        "\n",
        "def bfs(visited, graph, node):\n",
        "  visited.append(node)\n",
        "  queue.append(node)\n",
        "\n",
        "  while queue:\n",
        "    m = queue.pop(0)\n",
        "    print (m, end = \" \")\n",
        "\n",
        "    for neighbour in graph[m]:\n",
        "      if neighbour not in visited:\n",
        "        visited.append(neighbour)\n",
        "        queue.append(neighbour)\n",
        "\n",
        "\n"
      ]
    },
    {
      "cell_type": "markdown",
      "source": [
        "DFS"
      ],
      "metadata": {
        "id": "f4ZnpgzJrLRo"
      }
    },
    {
      "cell_type": "code",
      "source": [
        "visited_dfs = set()\n",
        "\n",
        "def dfs(visited_dfs, graph, node):\n",
        "    if node not in visited_dfs:\n",
        "        print (node,end=\" \")\n",
        "        visited_dfs.add(node)\n",
        "        for neighbour in graph[node]:\n",
        "            dfs(visited_dfs, graph, neighbour)"
      ],
      "metadata": {
        "id": "oE-s2XyPrMPF"
      },
      "execution_count": 18,
      "outputs": []
    },
    {
      "cell_type": "markdown",
      "source": [
        "ANSwer"
      ],
      "metadata": {
        "id": "mES1JHwQsDuM"
      }
    },
    {
      "cell_type": "code",
      "source": [
        "print(\"BFS of the graph is: \")\n",
        "bfs(visited, graph, '5')"
      ],
      "metadata": {
        "colab": {
          "base_uri": "https://localhost:8080/"
        },
        "id": "IlHxeBUVsB70",
        "outputId": "f836af4e-b63d-417d-9346-e7d332f14e85"
      },
      "execution_count": 19,
      "outputs": [
        {
          "output_type": "stream",
          "name": "stdout",
          "text": [
            "BFS of the graph is: \n",
            "5 3 7 2 4 8 "
          ]
        }
      ]
    },
    {
      "cell_type": "code",
      "source": [
        "print(\"DFS of the graph is: \")\n",
        "dfs(visited_dfs, graph, '5')"
      ],
      "metadata": {
        "colab": {
          "base_uri": "https://localhost:8080/"
        },
        "id": "zpqdZsXdsE5X",
        "outputId": "edfabdff-f214-48e6-928c-f354591c694d"
      },
      "execution_count": 20,
      "outputs": [
        {
          "output_type": "stream",
          "name": "stdout",
          "text": [
            "DFS of the graph is: \n",
            "5 3 2 4 8 7 "
          ]
        }
      ]
    }
  ]
}