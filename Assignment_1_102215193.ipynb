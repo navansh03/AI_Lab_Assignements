{
  "nbformat": 4,
  "nbformat_minor": 0,
  "metadata": {
    "colab": {
      "provenance": [],
      "authorship_tag": "ABX9TyML3uWGDllgyVKkbUQ9VWrc",
      "include_colab_link": true
    },
    "kernelspec": {
      "name": "python3",
      "display_name": "Python 3"
    },
    "language_info": {
      "name": "python"
    }
  },
  "cells": [
    {
      "cell_type": "markdown",
      "metadata": {
        "id": "view-in-github",
        "colab_type": "text"
      },
      "source": [
        "<a href=\"https://colab.research.google.com/github/navansh03/AI_Lab_Assignements/blob/main/Assignment_1_102215193.ipynb\" target=\"_parent\"><img src=\"https://colab.research.google.com/assets/colab-badge.svg\" alt=\"Open In Colab\"/></a>"
      ]
    },
    {
      "cell_type": "markdown",
      "source": [
        "#**Assignment 1**\n",
        "\n"
      ],
      "metadata": {
        "id": "PeijgnMPe8Gw"
      }
    },
    {
      "cell_type": "markdown",
      "source": [
        "Q1) Write a python program to implement different arithmetic operation such as addition,subtraction,multiplication,division and exponent."
      ],
      "metadata": {
        "id": "onqccSy5fRmF"
      }
    },
    {
      "cell_type": "code",
      "source": [
        "def add(x,y):\n",
        "  return x+y\n",
        "def sub(x,y):\n",
        "  return x-y\n",
        "def mul(x,y):\n",
        "  return x*y\n",
        "def div(x,y):\n",
        "  return x/y\n",
        "def exp(x,y):\n",
        "  return x**y\n",
        "\n",
        "print(\"Addition of two number is: \",add(5,2))\n",
        "print(\"Subtraction of two number is: \",sub(5,2))\n",
        "print(\"Multiplication of two number is: \",mul(5,2))\n",
        "print(\"Floor Division of Two numbers is: \",div(5,2))"
      ],
      "metadata": {
        "colab": {
          "base_uri": "https://localhost:8080/"
        },
        "id": "gnHVMPXHfOnw",
        "outputId": "38639cea-c802-4108-82cb-d1c92ab41724"
      },
      "execution_count": 2,
      "outputs": [
        {
          "output_type": "stream",
          "name": "stdout",
          "text": [
            "Addition of two number is:  7\n",
            "Subtraction of two number is:  3\n",
            "Multiplication of two number is:  10\n",
            "Floor Division of Two numbers is:  2.5\n"
          ]
        }
      ]
    },
    {
      "cell_type": "markdown",
      "source": [
        "Q2. Write a python program to implement the Boolean logic function( AND,OR,NOT etc)\n"
      ],
      "metadata": {
        "id": "2NM58KBUhWaN"
      }
    },
    {
      "cell_type": "code",
      "source": [
        "#Implementation of the following program using variables\n",
        "a=True and False  #AND boolean logic\n",
        "b=True or False #OR boolean logic\n",
        "c= not True #NOT boolean logic\n",
        "print(a)\n",
        "print(b)\n",
        "print(c)"
      ],
      "metadata": {
        "colab": {
          "base_uri": "https://localhost:8080/"
        },
        "id": "gcpWYB3DhdD9",
        "outputId": "b773d822-471d-4b33-8177-255ec6e76946"
      },
      "execution_count": 3,
      "outputs": [
        {
          "output_type": "stream",
          "name": "stdout",
          "text": [
            "False\n",
            "True\n",
            "False\n"
          ]
        }
      ]
    },
    {
      "cell_type": "markdown",
      "source": [
        "Q3. Write a python code to perform certain operation on the string such as print a string, concatenation of two string, Capitalize a string, convert a string to uppercase, accessing substring from a given string.\n"
      ],
      "metadata": {
        "id": "DhjCBjZeh67J"
      }
    },
    {
      "cell_type": "code",
      "source": [
        "# Print a string\n",
        "string1 = \"Hello\"\n",
        "string2 = \" World!\"\n",
        "string4 = \"This is a string\"\n",
        "print(string1)\n",
        "#COncatination of the strings\n",
        "string3 = string1 + string2\n",
        "print(string3)\n",
        "# Capitalize a string only the first letter\n",
        "print(string1.capitalize())\n",
        "# Convert a string to uppercase\n",
        "print(string1.upper())\n",
        "# Accessing substring from a given string\n",
        "substring = string4[8:15]\n",
        "print(substring)\n"
      ],
      "metadata": {
        "colab": {
          "base_uri": "https://localhost:8080/"
        },
        "id": "f_bsdwTZh71K",
        "outputId": "55747aef-c4ee-4818-d9eb-359c74e10224"
      },
      "execution_count": 5,
      "outputs": [
        {
          "output_type": "stream",
          "name": "stdout",
          "text": [
            "Hello\n",
            "Hello World!\n",
            "Hello\n",
            "HELLO\n",
            "a strin\n"
          ]
        }
      ]
    },
    {
      "cell_type": "markdown",
      "source": [
        "Q4.  Write a python code to create a list with different data types, access elements of lists, slicing, append ,remove elements from the list and find length of the list."
      ],
      "metadata": {
        "id": "ixUm6VE1keid"
      }
    },
    {
      "cell_type": "code",
      "source": [
        "#list\n",
        "list=[1,2.68,\"Navansh\",True]\n",
        "#accesing the list elements\n",
        "print(list[0])\n",
        "print(list[-1])\n",
        "#slicing\n",
        "list_2=list[1:3]\n",
        "print(list_2)  #sliced list printed\n",
        "list.append(\"Goswami\")\n",
        "print(list)\n",
        "\n",
        "#remove a element from the list\n",
        "list.remove(2.68)\n",
        "print(list)\n",
        "\n",
        "#length\n",
        "print(len(list))\n"
      ],
      "metadata": {
        "colab": {
          "base_uri": "https://localhost:8080/"
        },
        "id": "c96YTpezkftN",
        "outputId": "a8f1e5b8-629d-4cc8-d4ea-8b0070caf7c0"
      },
      "execution_count": 8,
      "outputs": [
        {
          "output_type": "stream",
          "name": "stdout",
          "text": [
            "1\n",
            "True\n",
            "[2.68, 'Navansh']\n",
            "[1, 2.68, 'Navansh', True, 'Goswami']\n",
            "[1, 'Navansh', True, 'Goswami']\n",
            "4\n"
          ]
        }
      ]
    },
    {
      "cell_type": "markdown",
      "source": [
        "Q5. Write a python code to find sum of the array and the largest number in the the array."
      ],
      "metadata": {
        "id": "7sEfGa3UlhTF"
      }
    },
    {
      "cell_type": "code",
      "source": [
        "array =[1,5,2,8,3]\n",
        "#sum of all the elements of the array\n",
        "sum_array=sum(array)\n",
        "print(sum_array)\n",
        "#max of the array\n",
        "print(max(array))"
      ],
      "metadata": {
        "colab": {
          "base_uri": "https://localhost:8080/"
        },
        "id": "6dNQMO_DlnBD",
        "outputId": "d2ea4baf-2a54-4f7e-9742-50079ecb4eb7"
      },
      "execution_count": 9,
      "outputs": [
        {
          "output_type": "stream",
          "name": "stdout",
          "text": [
            "19\n",
            "8\n"
          ]
        }
      ]
    },
    {
      "cell_type": "markdown",
      "source": [
        "Q6. Write a python code to add, subtract and multiply the matrices and then transpose each result matrix in single line."
      ],
      "metadata": {
        "id": "vrWSiSKHl2mj"
      }
    },
    {
      "source": [
        "A = [[1, 2], [3, 4]]\n",
        "B = [[5, 6], [7, 8]]\n",
        "\n",
        "# Adding  matrices and transpose\n",
        "add_result = [[A[i][j] + B[i][j] for j in range(len(A[0]))] for i in range(len(A))]\n",
        "add_result = [[add_result[j][i] for j in range(len(add_result))] for i in range(len(add_result[0]))]\n",
        "\n",
        "# Subtracting matrices and transpose\n",
        "subtract_result = [[A[i][j] - B[i][j] for j in range(len(A[0]))] for i in range(len(A))]\n",
        "subtract_result = [[subtract_result[j][i] for j in range(len(subtract_result))] for i in range(len(subtract_result[0]))]\n",
        "\n",
        "# Multiplying maTrices and transpose (element-wise)\n",
        "multiply_result = [[A[i][j] * B[i][j] for j in range(len(A[0]))] for i in range(len(A))]\n",
        "multiply_result = [[multiply_result[j][i] for j in range(len(multiply_result))] for i in range(len(multiply_result[0]))]\n",
        "\n",
        "print(add_result)\n",
        "print(subtract_result)\n",
        "print(multiply_result)"
      ],
      "cell_type": "code",
      "metadata": {
        "colab": {
          "base_uri": "https://localhost:8080/"
        },
        "id": "T2f7eo3FmOCw",
        "outputId": "35e071c0-b118-4c81-9ff9-5d95360f71d9"
      },
      "execution_count": 10,
      "outputs": [
        {
          "output_type": "stream",
          "name": "stdout",
          "text": [
            "[[6, 10], [8, 12]]\n",
            "[[-4, -4], [-4, -4]]\n",
            "[[5, 21], [12, 32]]\n"
          ]
        }
      ]
    },
    {
      "cell_type": "markdown",
      "source": [
        "Q7. Write a python code to create a dictionary with different data types, access elements of dictionary, add and remove elements from dictionary."
      ],
      "metadata": {
        "id": "bxCWXdZ7meDi"
      }
    },
    {
      "cell_type": "code",
      "source": [
        "dict={\"name\":\"Navansh\",\"age\":20,\"city\":\"Gwalior\",\"grades\": [80, 90, 75]}\n",
        "#accessing the elements of dict by using key\n",
        "print(dict['name'])\n",
        "\n",
        "#adding of the element\n",
        "dict[\"Gender\"]=\"Male\"\n",
        "print(dict)\n",
        "\n",
        "#removing the element\n",
        "del dict[\"age\"]\n",
        "print(dict)"
      ],
      "metadata": {
        "colab": {
          "base_uri": "https://localhost:8080/"
        },
        "id": "suGf8xtYmT5E",
        "outputId": "e3abfd96-e65d-4e45-f4b8-0942ef16ca9c"
      },
      "execution_count": 11,
      "outputs": [
        {
          "output_type": "stream",
          "name": "stdout",
          "text": [
            "Navansh\n",
            "{'name': 'Navansh', 'age': 20, 'city': 'Gwalior', 'grades': [80, 90, 75], 'Gender': 'Male'}\n",
            "{'name': 'Navansh', 'city': 'Gwalior', 'grades': [80, 90, 75], 'Gender': 'Male'}\n"
          ]
        }
      ]
    },
    {
      "cell_type": "markdown",
      "source": [
        "Q8. Write a python code to print the prime numbers less than 20."
      ],
      "metadata": {
        "id": "nv1Ov7hnnX70"
      }
    },
    {
      "cell_type": "code",
      "source": [
        "def is_prime(n):\n",
        "  if n<=1:\n",
        "    return False\n",
        "  for i in range(2,int(n**0.5)+1):\n",
        "    if n%i==0:\n",
        "      return False\n",
        "  return True\n",
        "\n",
        "\n",
        "for num in range(1,20):\n",
        "  if is_prime(num):\n",
        "    print(num)\n"
      ],
      "metadata": {
        "colab": {
          "base_uri": "https://localhost:8080/"
        },
        "id": "a4sSDVZjnSmd",
        "outputId": "d48e97ff-eabc-4e36-cebb-af9fb7325d2b"
      },
      "execution_count": 12,
      "outputs": [
        {
          "output_type": "stream",
          "name": "stdout",
          "text": [
            "2\n",
            "3\n",
            "5\n",
            "7\n",
            "11\n",
            "13\n",
            "17\n",
            "19\n"
          ]
        }
      ]
    },
    {
      "cell_type": "markdown",
      "source": [
        "Q9. Write a python code to find the factorial of a number using recursion."
      ],
      "metadata": {
        "id": "VdQCVfvjoauA"
      }
    },
    {
      "cell_type": "code",
      "source": [
        "def factorial(n):\n",
        "  if n==0:\n",
        "    return 1\n",
        "  else:\n",
        "    return n*factorial(n-1)\n",
        "\n",
        "#we will be calculating the factorial of 10\n",
        "n=10\n",
        "print(factorial(n))\n"
      ],
      "metadata": {
        "colab": {
          "base_uri": "https://localhost:8080/"
        },
        "id": "NmO4Lr1WoI7_",
        "outputId": "486db3f4-52ad-499b-c4c9-53bfdd12a6ea"
      },
      "execution_count": 13,
      "outputs": [
        {
          "output_type": "stream",
          "name": "stdout",
          "text": [
            "3628800\n"
          ]
        }
      ]
    },
    {
      "cell_type": "markdown",
      "source": [
        "Q10. Write a python code to create a tuple ,then find maximum and minimum k element in the tuple and find the size of the tuple.\n"
      ],
      "metadata": {
        "id": "Eyd5vUEuo6Of"
      }
    },
    {
      "cell_type": "code",
      "source": [
        "from re import T\n",
        "tuple=(10,90,60,40,70)\n",
        "\n",
        "#we will sort the tuple first\n",
        "sorted_tuple=sorted(tuple)\n",
        "#we are taking k=2 for calculation of max and min\n",
        "max_elements=sorted_tuple[-2:]\n",
        "min_elements=sorted_tuple[:2]\n",
        "print(max_elements)\n",
        "print(min_elements)\n",
        "\n",
        "#size of the tuple\n",
        "print(len(tuple))"
      ],
      "metadata": {
        "colab": {
          "base_uri": "https://localhost:8080/"
        },
        "id": "vusGAvLjo1qE",
        "outputId": "0d6c686c-265b-406a-86ce-1feb150df29a"
      },
      "execution_count": 15,
      "outputs": [
        {
          "output_type": "stream",
          "name": "stdout",
          "text": [
            "[70, 90]\n",
            "[10, 40]\n",
            "5\n"
          ]
        }
      ]
    }
  ]
}