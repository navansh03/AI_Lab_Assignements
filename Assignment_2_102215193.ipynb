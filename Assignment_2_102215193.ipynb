{
  "nbformat": 4,
  "nbformat_minor": 0,
  "metadata": {
    "colab": {
      "provenance": [],
      "include_colab_link": true
    },
    "kernelspec": {
      "name": "python3",
      "display_name": "Python 3"
    },
    "language_info": {
      "name": "python"
    }
  },
  "cells": [
    {
      "cell_type": "markdown",
      "metadata": {
        "id": "view-in-github",
        "colab_type": "text"
      },
      "source": [
        "<a href=\"https://colab.research.google.com/github/navansh03/AI_Lab_Assignements/blob/main/Assignment_2_102215193.ipynb\" target=\"_parent\"><img src=\"https://colab.research.google.com/assets/colab-badge.svg\" alt=\"Open In Colab\"/></a>"
      ]
    },
    {
      "cell_type": "markdown",
      "source": [
        "## **ASSIGNMENT_2**"
      ],
      "metadata": {
        "id": "yrPRTIYoC9Ck"
      }
    },
    {
      "cell_type": "markdown",
      "source": [
        "Q1) Given two lists—one containing keys and the other containing values.\n",
        "Create a dictionary by pairing corresponding elements from both lists."
      ],
      "metadata": {
        "id": "mlJInv_QDLKo"
      }
    },
    {
      "cell_type": "code",
      "source": [
        "l1=[1,2,3,4,5]\n",
        "l2=[\"Ram\",\"Laxman\",\"Adi\",\"Manav\",\"Hde\"]\n",
        "dict={}\n",
        "for i in range(len(l1)):\n",
        "  dict[l1[i]]=l2[i]\n",
        "print(dict)"
      ],
      "metadata": {
        "id": "xoTs6liiDZE8",
        "colab": {
          "base_uri": "https://localhost:8080/"
        },
        "outputId": "ac740906-eaba-4a53-fb41-1c5c680b4138"
      },
      "execution_count": null,
      "outputs": [
        {
          "output_type": "stream",
          "name": "stdout",
          "text": [
            "{1: 'Ram', 2: 'Laxman', 3: 'Adi', 4: 'Manav', 5: 'Gopal'}\n"
          ]
        }
      ]
    },
    {
      "cell_type": "markdown",
      "source": [
        "Q2) Write a program that compares two numbers and prints whether they\n",
        "are equal, not equal, greater than, or less than each other."
      ],
      "metadata": {
        "id": "a4TeSf5uDb7q"
      }
    },
    {
      "cell_type": "code",
      "source": [
        "num1=int(input(\"Enter first number:\"))\n",
        "num2=int(input(\"Enter second number:\"))\n",
        "if num1==num2:\n",
        "  print(num1,\" = \",num2)\n",
        "elif num1>num2:\n",
        "  print(num1,\" > \",num2)\n",
        "else:\n",
        "  print(num1,\" < \",num2)"
      ],
      "metadata": {
        "colab": {
          "base_uri": "https://localhost:8080/"
        },
        "id": "uEAmqAnwCsyZ",
        "outputId": "22aeab49-43d9-4865-f19d-94ceb24db2fe"
      },
      "execution_count": null,
      "outputs": [
        {
          "output_type": "stream",
          "name": "stdout",
          "text": [
            "Enter first number:8\n",
            "Enter second number:26\n",
            "8  <  26\n"
          ]
        }
      ]
    },
    {
      "cell_type": "markdown",
      "source": [
        "Q3) Create a list of length 10 of your choice containing multiple types of\n",
        "data. Using for loop print the element and its data type."
      ],
      "metadata": {
        "id": "a2n77f-6Dheu"
      }
    },
    {
      "cell_type": "code",
      "source": [
        "list = [10, \"hello\", 3.4, True, 88, [1, 2, 3], {\"name\": \"Sarthak\", \"age\": 20}, (10, 20), \"IT\", 2024]\n",
        "for element in list:\n",
        "  print(element , type(element))"
      ],
      "metadata": {
        "id": "V5uESd_sDnTg",
        "colab": {
          "base_uri": "https://localhost:8080/"
        },
        "outputId": "13f7b711-5fa7-4840-eec0-e249c125cefd"
      },
      "execution_count": null,
      "outputs": [
        {
          "output_type": "stream",
          "name": "stdout",
          "text": [
            "10 <class 'int'>\n",
            "hello <class 'str'>\n",
            "3.4 <class 'float'>\n",
            "True <class 'bool'>\n",
            "88 <class 'int'>\n",
            "[1, 2, 3] <class 'list'>\n",
            "{'name': 'Sarthak', 'age': 20} <class 'dict'>\n",
            "(10, 20) <class 'tuple'>\n",
            "IT <class 'str'>\n",
            "2024 <class 'int'>\n"
          ]
        }
      ]
    },
    {
      "cell_type": "markdown",
      "source": [
        "Q4) Using a while loop, verify if the number A is purely divisible by number\n",
        "B and if so then how many times it can be divisible."
      ],
      "metadata": {
        "id": "6jjEWCwfDnle"
      }
    },
    {
      "cell_type": "code",
      "source": [
        "A=int(input(\"Enter number A:\"))\n",
        "B=int(input(\"Enter number B:\"))\n",
        "if A%B==0:\n",
        "  print(A,\"is divisible by\",B)\n",
        "  print(B,\"divides\",A,\": \", A/B,\"times\")\n",
        "else:\n",
        "  print(A,\"is not divisible by\",B)"
      ],
      "metadata": {
        "id": "pC3sXknbDq2C",
        "colab": {
          "base_uri": "https://localhost:8080/"
        },
        "outputId": "b542e236-ab5d-4dfd-9640-eff3d9293f58"
      },
      "execution_count": null,
      "outputs": [
        {
          "output_type": "stream",
          "name": "stdout",
          "text": [
            "Enter number A:8\n",
            "Enter number B:4\n",
            "8 is divisible by 4\n",
            "4 divides 8 :  2.0 times\n"
          ]
        }
      ]
    },
    {
      "cell_type": "markdown",
      "source": [
        "Q5) Create a list containing 25 integer type data. Using for loop and if-else\n",
        "condition print if the element is divisible by 3 or not."
      ],
      "metadata": {
        "id": "DLLeWKV2DrFq"
      }
    },
    {
      "cell_type": "code",
      "source": [
        "list=[]\n",
        "for i in range(1,2644):\n",
        "  num=int(input(\"Enter number:\"))\n",
        "  list.append(num)\n",
        "for i in list:\n",
        "  if i%3==0:\n",
        "    print(i,\"is divisible by 3\")\n",
        "  else:\n",
        "    print(i,\"is not divisible by 3\")"
      ],
      "metadata": {
        "id": "6PXREjPpDuF8",
        "colab": {
          "base_uri": "https://localhost:8080/"
        },
        "outputId": "dc57f021-be23-44f7-8e27-d97413389eac"
      },
      "execution_count": null,
      "outputs": [
        {
          "output_type": "stream",
          "name": "stdout",
          "text": [
            "Enter number:26\n",
            "Enter number:37\n",
            "Enter number:36\n",
            "Enter number:27\n",
            "Enter number:3\n",
            "Enter number:99\n",
            "Enter number:25\n",
            "Enter number:28\n",
            "Enter number:10\n",
            "Enter number:92\n",
            "Enter number:63\n",
            "Enter number:30\n",
            "Enter number:20\n",
            "Enter number:11\n",
            "Enter number:94\n",
            "Enter number:1620\n",
            "Enter number:0\n",
            "Enter number:3\n",
            "Enter number:84\n",
            "Enter number:76\n",
            "Enter number:69\n",
            "Enter number:39\n",
            "Enter number:55\n",
            "Enter number:54\n",
            "Enter number:33\n",
            "26 is not divisible by 3\n",
            "37 is not divisible by 3\n",
            "36 is divisible by 3\n",
            "27 is divisible by 3\n",
            "3 is divisible by 3\n",
            "99 is divisible by 3\n",
            "25 is not divisible by 3\n",
            "28 is not divisible by 3\n",
            "10 is not divisible by 3\n",
            "92 is not divisible by 3\n",
            "63 is divisible by 3\n",
            "30 is divisible by 3\n",
            "20 is not divisible by 3\n",
            "11 is not divisible by 3\n",
            "94 is not divisible by 3\n",
            "1620 is divisible by 3\n",
            "0 is divisible by 3\n",
            "3 is divisible by 3\n",
            "84 is divisible by 3\n",
            "76 is not divisible by 3\n",
            "69 is divisible by 3\n",
            "39 is divisible by 3\n",
            "55 is not divisible by 3\n",
            "54 is divisible by 3\n",
            "33 is divisible by 3\n"
          ]
        }
      ]
    },
    {
      "cell_type": "markdown",
      "source": [
        "Q6) Given a list my list = [1, 2, 3, 4, 5], write the code to slice the list and\n",
        "obtain the sub-list [2, 3]."
      ],
      "metadata": {
        "id": "qgDU_fssDuia"
      }
    },
    {
      "cell_type": "code",
      "source": [
        "list1=[1,2,3,4,5]\n",
        "sliced_list = list1[1:3]\n",
        "print(\"The Sliced list is as follows: \" , sliced_list)"
      ],
      "metadata": {
        "colab": {
          "base_uri": "https://localhost:8080/"
        },
        "id": "AgqVOkgDDxmW",
        "outputId": "ac6b6864-9864-41fa-c929-8b4c4992de03"
      },
      "execution_count": null,
      "outputs": [
        {
          "output_type": "stream",
          "name": "stdout",
          "text": [
            "The Sliced list is as follows:  [2, 3]\n"
          ]
        }
      ]
    },
    {
      "cell_type": "markdown",
      "source": [
        "Q7) Given the string \"Hello, World!\", extract the sub-string \"World\"."
      ],
      "metadata": {
        "id": "KyhBlUdLDx3L"
      }
    },
    {
      "cell_type": "code",
      "source": [
        "stri=\"Hello, World!\"\n",
        "subStr=stri[7:12]\n",
        "print(\"The Sub-string is\",subStr)"
      ],
      "metadata": {
        "id": "AGQ0LRBkD04B",
        "colab": {
          "base_uri": "https://localhost:8080/"
        },
        "outputId": "75b47aa2-1603-4474-a3e6-48b2a4f60e1e"
      },
      "execution_count": null,
      "outputs": [
        {
          "output_type": "stream",
          "name": "stdout",
          "text": [
            "The Sub-string is as follows:  World\n"
          ]
        }
      ]
    },
    {
      "cell_type": "markdown",
      "source": [
        "Q8) Calculate the multiplication and sum of two numbers: Given two integer\n",
        "numbers, return their product only if the product is equal to or lower\n",
        "than 1000. Otherwise, return their sum."
      ],
      "metadata": {
        "id": "8WIdzJ1pD1aY"
      }
    },
    {
      "cell_type": "code",
      "source": [
        "a=int(input(\"Enter first number:\"))\n",
        "b=int(input(\"Enter second number:\"))\n",
        "if a*b<=1000:\n",
        "  print(a*b)\n",
        "else:\n",
        "  print(a+b)"
      ],
      "metadata": {
        "id": "TKql-_CZD4Pc",
        "colab": {
          "base_uri": "https://localhost:8080/"
        },
        "outputId": "b7b73899-3065-4870-9c73-de5621154017"
      },
      "execution_count": null,
      "outputs": [
        {
          "output_type": "stream",
          "name": "stdout",
          "text": [
            "Enter first number:10\n",
            "Enter second number:98\n",
            "980\n"
          ]
        }
      ]
    },
    {
      "cell_type": "markdown",
      "source": [
        "Q9) Write a program to iterate through the first 10 numbers, and in each\n",
        "Print characters from a string that are present at an even index number.\n",
        "Accept a string from the user and display characters that are present at\n",
        "an even index number."
      ],
      "metadata": {
        "id": "04XNDBH6D4cD"
      }
    },
    {
      "cell_type": "code",
      "source": [
        "def evenChar(string):\n",
        "  for i in range(0, len(string), 2):\n",
        "    print(string[i])\n",
        "string = input(\"Enter a string: \")\n",
        "evenChar(string)"
      ],
      "metadata": {
        "id": "aRtlpeNED66H",
        "colab": {
          "base_uri": "https://localhost:8080/"
        },
        "outputId": "3d096a1a-2a3d-415c-cb9f-fb4dd572ec8a"
      },
      "execution_count": null,
      "outputs": [
        {
          "output_type": "stream",
          "name": "stdout",
          "text": [
            "Enter a string: Sarthak\n",
            "S\n",
            "r\n",
            "h\n",
            "k\n"
          ]
        }
      ]
    },
    {
      "cell_type": "markdown",
      "source": [
        "Q10) Write a program to iterate through the list and find the even number &\n",
        "its count."
      ],
      "metadata": {
        "id": "h64Vq8ZLD7Tv"
      }
    },
    {
      "cell_type": "code",
      "source": [
        "list1=[0,1,2,3,4,5,6,7,8,9,10]\n",
        "count =0\n",
        "for i in list1:\n",
        "  if i%2==0:\n",
        "    print(i)\n",
        "    count=count+1\n",
        "print(\"The count of even numbers is: \" , count)"
      ],
      "metadata": {
        "id": "cMRGffeED9Yh",
        "colab": {
          "base_uri": "https://localhost:8080/"
        },
        "outputId": "898f2779-7677-4276-b174-6a435b915d6a"
      },
      "execution_count": null,
      "outputs": [
        {
          "output_type": "stream",
          "name": "stdout",
          "text": [
            "0\n",
            "2\n",
            "4\n",
            "6\n",
            "8\n",
            "10\n",
            "The count of even numbers is:  6\n"
          ]
        }
      ]
    },
    {
      "cell_type": "markdown",
      "source": [
        "Q11) Write a program to find the minimum value of a list of numbers 5,3,8,-1,-\n",
        "2.2,0 (Don’t use built in function)."
      ],
      "metadata": {
        "id": "8LxoIaYkD9ls"
      }
    },
    {
      "cell_type": "code",
      "source": [
        "list=[5,3,8,-1,-2.2,0]\n",
        "minEle=list[0]\n",
        "for i in list:\n",
        "  if i < minEle:\n",
        "    minEle=i\n",
        "print(\"The minimum value from the list of given numbers is: \" , minEle)"
      ],
      "metadata": {
        "id": "JSnnaw0PD_68",
        "colab": {
          "base_uri": "https://localhost:8080/"
        },
        "outputId": "a8b12f2f-402f-42af-e7ed-0586c561d64a"
      },
      "execution_count": null,
      "outputs": [
        {
          "output_type": "stream",
          "name": "stdout",
          "text": [
            "The minimum value from the list of given numbers is:  -2.2\n"
          ]
        }
      ]
    },
    {
      "cell_type": "markdown",
      "source": [
        "Q12) Write a programme to iterate over a list of strings and check whether a\n",
        "particular word is in or not?"
      ],
      "metadata": {
        "id": "XtJ0AAQsEAMd"
      }
    },
    {
      "cell_type": "code",
      "source": [
        "list=[\"RAM\",\"Processor\",\"ROM\",\"Buses\",\"Routers\",\"GPU\"]\n",
        "word=str(input(\"Enter the word to be checked:\"))\n",
        "for i in list:\n",
        "  if i.lower() == word:\n",
        "    print(word,\"is present in the list\")\n",
        "    break\n",
        "else:\n",
        "  print(word,\"is not present in the list\")\n"
      ],
      "metadata": {
        "id": "OGGMgZ4VECqF",
        "colab": {
          "base_uri": "https://localhost:8080/"
        },
        "outputId": "8bba36f6-309d-4328-8ff6-df4d25cf4f54"
      },
      "execution_count": null,
      "outputs": [
        {
          "output_type": "stream",
          "name": "stdout",
          "text": [
            "Enter the word to be checked:gpu\n",
            "gpu is present in the list\n"
          ]
        }
      ]
    },
    {
      "cell_type": "markdown",
      "source": [
        "Q13) Write a programme that uses a while loop to test whether user input a\n",
        "password \"Secret\" other wise print \" Your password is incorrect\"."
      ],
      "metadata": {
        "id": "qJbNo4EvEC6D"
      }
    },
    {
      "cell_type": "code",
      "source": [
        "while True :\n",
        "  password=str(input(\"Enter the password:\"))\n",
        "  if password == \"Secret\":\n",
        "    print(\"Your Password is correct\")\n",
        "    break\n",
        "  else:\n",
        "    print(\"Your Password is incorrect\")"
      ],
      "metadata": {
        "id": "AXou4mzxEI2k",
        "colab": {
          "base_uri": "https://localhost:8080/"
        },
        "outputId": "d2fe555b-5ef5-47a6-c06c-ac355fdfbef2"
      },
      "execution_count": null,
      "outputs": [
        {
          "output_type": "stream",
          "name": "stdout",
          "text": [
            "Enter the password:admin1234\n",
            "Your Password is incorrect\n",
            "Enter the password:user12\n",
            "Your Password is incorrect\n",
            "Enter the password:Secret\n",
            "Your Password is correct\n"
          ]
        }
      ]
    },
    {
      "cell_type": "markdown",
      "source": [
        "Q14) Write a program to show\n",
        "(a) Exit a loop using break\n",
        "(b) Exit a loop using Continue"
      ],
      "metadata": {
        "id": "1Td7FGSnEJHb"
      }
    },
    {
      "cell_type": "code",
      "source": [
        "num = [1, 2, 3, 4, 5, 6, 7, 8, 9, 10]\n",
        "for i in num:\n",
        "    if i == 5:\n",
        "        print(\"Found the number 5!\")\n",
        "        break\n",
        "    print(i)"
      ],
      "metadata": {
        "colab": {
          "base_uri": "https://localhost:8080/"
        },
        "id": "UV6GtLIAPbWH",
        "outputId": "52cd7537-247a-4961-a454-7df7ae40e6e7"
      },
      "execution_count": null,
      "outputs": [
        {
          "output_type": "stream",
          "name": "stdout",
          "text": [
            "1\n",
            "2\n",
            "3\n",
            "4\n",
            "Found the number 5!\n"
          ]
        }
      ]
    },
    {
      "cell_type": "code",
      "source": [
        "num = [1, 2, 3, 4, 5, 6, 7, 8, 9, 10]\n",
        "for i in num:\n",
        "    if i % 2 == 0:\n",
        "        continue\n",
        "    print(i)"
      ],
      "metadata": {
        "id": "mzqpshzIELUV",
        "colab": {
          "base_uri": "https://localhost:8080/"
        },
        "outputId": "1bb14078-2631-4164-b0d8-ec3f33e13468"
      },
      "execution_count": null,
      "outputs": [
        {
          "output_type": "stream",
          "name": "stdout",
          "text": [
            "1\n",
            "3\n",
            "5\n",
            "7\n",
            "9\n"
          ]
        }
      ]
    },
    {
      "cell_type": "markdown",
      "source": [
        "Q15) Write a programme that asks the user for number (int) . It computes\n",
        "the average of a number & allows the user to enter -1 to quit."
      ],
      "metadata": {
        "id": "2BSJbBI_ELof"
      }
    },
    {
      "cell_type": "code",
      "source": [
        "total = 0\n",
        "count = 0\n",
        "\n",
        "while True:\n",
        "    num = int(input(\"Enter a number (or -1 to quit): \"))\n",
        "    if num == -1:\n",
        "      break\n",
        "    total += num\n",
        "    count += 1\n",
        "\n",
        "if count > 0:\n",
        "    average = total / count\n",
        "    print(\"The average of the numbers is:\", average)\n",
        "else:\n",
        "    print(\"No numbers were entered.\")"
      ],
      "metadata": {
        "id": "K0WMHrNcEOwS",
        "colab": {
          "base_uri": "https://localhost:8080/"
        },
        "outputId": "57c32455-0515-4793-d5ad-4572ab6ff326"
      },
      "execution_count": null,
      "outputs": [
        {
          "output_type": "stream",
          "name": "stdout",
          "text": [
            "Enter a number (or -1 to quit): 2\n",
            "Enter a number (or -1 to quit): 10\n",
            "Enter a number (or -1 to quit): 23\n",
            "Enter a number (or -1 to quit): -1\n",
            "The average of the numbers is: 11.666666666666666\n"
          ]
        }
      ]
    },
    {
      "cell_type": "markdown",
      "source": [
        "Q16) Write a programme with function get_factor that takes an integer as a\n",
        "parameter and return a list of factors of that number."
      ],
      "metadata": {
        "id": "VJSJJ5JPEO__"
      }
    },
    {
      "cell_type": "code",
      "source": [
        "def get_factors(number):\n",
        "    factors = []\n",
        "    for i in range(1, number + 1):\n",
        "        if number % i == 0:\n",
        "            factors.append(i)\n",
        "    return factors\n",
        "num = int(input(\"Enter a number: \"))\n",
        "factors = get_factors(num)\n",
        "print(\"Factors of\", num, \"are:\", factors)"
      ],
      "metadata": {
        "id": "hWvsSMo-ERce",
        "colab": {
          "base_uri": "https://localhost:8080/"
        },
        "outputId": "c651f899-c3f5-4e12-ebcc-6dcd3fb24ecc"
      },
      "execution_count": null,
      "outputs": [
        {
          "output_type": "stream",
          "name": "stdout",
          "text": [
            "Enter a number: 36\n",
            "Factors of 36 are: [1, 2, 3, 4, 6, 9, 12, 18, 36]\n"
          ]
        }
      ]
    },
    {
      "cell_type": "markdown",
      "source": [
        "Q17) Write a program with a function unique_list that takes a list of numbers\n",
        "as a parameter and return a new list with the unique list."
      ],
      "metadata": {
        "id": "-R6rCpaxERvF"
      }
    },
    {
      "cell_type": "code",
      "source": [
        "def unique_list(num):\n",
        "  unique_elements = []\n",
        "  for i in num:\n",
        "    if i not in unique_elements:\n",
        "      unique_elements.append(i)\n",
        "  return unique_elements\n",
        "\n",
        "nlist= [1,2,3,3,2,4,1,5]\n",
        "unique_nums = unique_list(nlist)\n",
        "print(\"Unique elements:\", unique_nums)"
      ],
      "metadata": {
        "id": "PTn_gps2EUcw",
        "colab": {
          "base_uri": "https://localhost:8080/"
        },
        "outputId": "edc15cb1-67ed-4252-d166-cf78b584c63d"
      },
      "execution_count": null,
      "outputs": [
        {
          "output_type": "stream",
          "name": "stdout",
          "text": [
            "Unique elements: [1, 2, 3, 4, 5]\n"
          ]
        }
      ]
    },
    {
      "cell_type": "markdown",
      "source": [
        "Q18) Write a programme to create a dictionary of three students with their\n",
        "details like name,grades & attendance of 5 subjects in list. Then create\n",
        "another dictionary which is having roll no as keys and name of the\n",
        "students as values. Write another programme to get average of all the\n",
        "marks."
      ],
      "metadata": {
        "id": "612oZbWYEUuP"
      }
    },
    {
      "cell_type": "code",
      "source": [
        "students = {\n",
        "    \"student1\": {\n",
        "        \"name\": \"Ram\",\n",
        "        \"grades\": [85, 92, 78, 90, 88],\n",
        "        \"attendance\": [18, 20, 19, 17, 20]\n",
        "    },\n",
        "    \"student2\": {\n",
        "        \"name\": \"Laxman\",\n",
        "        \"grades\": [75, 80, 85, 90, 95],\n",
        "        \"attendance\": [19, 18, 20, 20, 19]\n",
        "    },\n",
        "    \"student3\": {\n",
        "        \"name\": \"Lucky\",\n",
        "        \"grades\": [88, 84, 91, 87, 92],\n",
        "        \"attendance\": [20, 19, 18, 17, 20]\n",
        "    }\n",
        "}\n",
        "\n",
        "roll_numbers = {\n",
        "    1: \"Ram\" ,\n",
        "    2: \"Laxman\" ,\n",
        "    3: \"Lucky\"\n",
        "}\n",
        "\n",
        "for skey , sinfo in students.items():\n",
        "    avg = sum(sinfo[\"grades\"]) / len(sinfo[\"grades\"])\n",
        "    print(f\"{sinfo['name']} has an average grade of {avg}\")"
      ],
      "metadata": {
        "id": "z8Vn4IvvEXgI",
        "colab": {
          "base_uri": "https://localhost:8080/"
        },
        "outputId": "5a91f12e-c3d7-43b0-a4dc-58c8bab0509a"
      },
      "execution_count": null,
      "outputs": [
        {
          "output_type": "stream",
          "name": "stdout",
          "text": [
            "Ram has an average grade of 86.6\n",
            "Laxman has an average grade of 85.0\n",
            "Lucky has an average grade of 88.4\n"
          ]
        }
      ]
    }
  ]
}