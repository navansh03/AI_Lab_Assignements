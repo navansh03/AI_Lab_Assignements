{
  "nbformat": 4,
  "nbformat_minor": 0,
  "metadata": {
    "colab": {
      "provenance": [],
      "authorship_tag": "ABX9TyN+gjqZmwp5kmrbDiHEVEkH",
      "include_colab_link": true
    },
    "kernelspec": {
      "name": "python3",
      "display_name": "Python 3"
    },
    "language_info": {
      "name": "python"
    }
  },
  "cells": [
    {
      "cell_type": "markdown",
      "metadata": {
        "id": "view-in-github",
        "colab_type": "text"
      },
      "source": [
        "<a href=\"https://colab.research.google.com/github/navansh03/AI_Lab_Assignements/blob/main/Assignment_3_102215193.ipynb\" target=\"_parent\"><img src=\"https://colab.research.google.com/assets/colab-badge.svg\" alt=\"Open In Colab\"/></a>"
      ]
    },
    {
      "cell_type": "markdown",
      "source": [
        "# Assignment 3"
      ],
      "metadata": {
        "id": "yFAed5s0mITz"
      }
    },
    {
      "cell_type": "markdown",
      "source": [
        "###Q. Searching and sorting algorithm using python\n"
      ],
      "metadata": {
        "id": "sO1ZO2JimN__"
      }
    },
    {
      "cell_type": "markdown",
      "source": [
        "Linear Search"
      ],
      "metadata": {
        "id": "vkM0Ryn1nO6K"
      }
    },
    {
      "cell_type": "code",
      "execution_count": 23,
      "metadata": {
        "id": "ePo25S_2k_Eg"
      },
      "outputs": [],
      "source": [
        "def linear_search(list, target):\n",
        "    for i in range(len(list)):\n",
        "        if list[i] == target:\n",
        "            return i\n",
        "    return -1"
      ]
    },
    {
      "cell_type": "markdown",
      "source": [
        "Binary search"
      ],
      "metadata": {
        "id": "JOqivpw2nkaA"
      }
    },
    {
      "cell_type": "code",
      "source": [
        "def binary_search(list,target):\n",
        "  first =0\n",
        "  last =len(list)-1\n",
        "  while first<=last:\n",
        "    midpoint=int((first+last)/2)\n",
        "    if list[midpoint]==target:\n",
        "      return midpoint\n",
        "    elif list[midpoint]<target:\n",
        "      first=midpoint+1\n",
        "    else:\n",
        "      last=midpoint-1\n",
        "  return -1\n"
      ],
      "metadata": {
        "id": "5pJpRwYGnmIA"
      },
      "execution_count": 24,
      "outputs": []
    },
    {
      "cell_type": "markdown",
      "source": [
        "Bubble Sort"
      ],
      "metadata": {
        "id": "gJXK4bsgoVQE"
      }
    },
    {
      "cell_type": "code",
      "source": [
        "def bubble_sort(list):\n",
        "  for i in range(len(list)- 1):\n",
        "    for j in range(len(list) -1 -i):\n",
        "      if list[j] > list[j+1]:\n",
        "        temp = list[j]\n",
        "        list[j] = list[j+1]\n",
        "        list[j+1] = temp\n",
        "  return list"
      ],
      "metadata": {
        "id": "xbAZZ05toEPH"
      },
      "execution_count": 25,
      "outputs": []
    },
    {
      "cell_type": "markdown",
      "source": [
        "###**ANSWER**"
      ],
      "metadata": {
        "id": "crWdygM5utk-"
      }
    },
    {
      "cell_type": "code",
      "source": [
        "list=[30,10,5,2,90,1000]\n",
        "#first we will sort this\n",
        "sorted_list=bubble_sort(list)\n",
        "print(\"After sorting the list looks like: \",sorted_list)\n",
        "# now we will find our target which is 10 Thorugh binary and linear search\n",
        "target=10\n",
        "print(\"Target is: \",target)\n",
        "print(\"Index of target is through Linear Search: \",linear_search(sorted_list,target))\n",
        "print(\"Index of target is through Binary Search: \",binary_search(sorted_list,target))\n"
      ],
      "metadata": {
        "colab": {
          "base_uri": "https://localhost:8080/"
        },
        "id": "MbQRHFfQuv04",
        "outputId": "f6b7c75f-88e5-4b56-c7b3-944b0f48eaf6"
      },
      "execution_count": 26,
      "outputs": [
        {
          "output_type": "stream",
          "name": "stdout",
          "text": [
            "After sorting the list looks like:  [2, 5, 10, 30, 90, 1000]\n",
            "Target is:  10\n",
            "Index of target is through Linear Search:  2\n",
            "Index of target is through Binary Search:  2\n"
          ]
        }
      ]
    },
    {
      "cell_type": "code",
      "source": [],
      "metadata": {
        "id": "KJfcapJwv4no"
      },
      "execution_count": 26,
      "outputs": []
    }
  ]
}