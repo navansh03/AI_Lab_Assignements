{
  "nbformat": 4,
  "nbformat_minor": 0,
  "metadata": {
    "colab": {
      "provenance": []
    },
    "kernelspec": {
      "name": "python3",
      "display_name": "Python 3"
    },
    "language_info": {
      "name": "python"
    }
  },
  "cells": [
    {
      "cell_type": "markdown",
      "source": [
        "# **Assignment 5**"
      ],
      "metadata": {
        "id": "JJbX_JZtq3Dd"
      }
    },
    {
      "cell_type": "markdown",
      "source": [
        "## Q1. Write a Program to Implement N-Queens Problem using Python."
      ],
      "metadata": {
        "id": "h4Tm0p4frFTk"
      }
    },
    {
      "cell_type": "code",
      "execution_count": 5,
      "metadata": {
        "colab": {
          "base_uri": "https://localhost:8080/"
        },
        "id": "d4h1bSXiqm-B",
        "outputId": "876a83fe-ae9d-4fdd-cd7b-ce0fd9b62378"
      },
      "outputs": [
        {
          "output_type": "stream",
          "name": "stdout",
          "text": [
            "0 0 1 0 \n",
            "1 0 0 0 \n",
            "0 0 0 1 \n",
            "0 1 0 0 \n"
          ]
        },
        {
          "output_type": "execute_result",
          "data": {
            "text/plain": [
              "True"
            ]
          },
          "metadata": {},
          "execution_count": 5
        }
      ],
      "source": [
        "# Problem using backtracking\n",
        "N = 4\n",
        "\n",
        "def printSolution(board):\n",
        "    for i in range(N):\n",
        "        for j in range(N):\n",
        "            print (board[i][j],end=' ')\n",
        "        print()\n",
        "\n",
        "def isSafe(board, row, col):\n",
        "\n",
        "    for i in range(col):\n",
        "        if board[row][i] == 1:\n",
        "            return False\n",
        "\n",
        "    for i, j in zip(range(row, -1, -1), range(col, -1, -1)):\n",
        "        if board[i][j] == 1:\n",
        "            return False\n",
        "    for i, j in zip(range(row, N, 1), range(col, -1, -1)):\n",
        "        if board[i][j] == 1:\n",
        "            return False\n",
        "\n",
        "    return True\n",
        "\n",
        "def solveNQUtil(board, col):\n",
        "\n",
        "    if col >= N:\n",
        "        return True\n",
        "    for i in range(N):\n",
        "\n",
        "        if isSafe(board, i, col):\n",
        "            board[i][col] = 1\n",
        "\n",
        "            if solveNQUtil(board, col + 1) == True:\n",
        "                return True\n",
        "\n",
        "            board[i][col] = 0\n",
        "    return False\n",
        "\n",
        "def solveNQ():\n",
        "    board = [ [0, 0, 0, 0],\n",
        "              [0, 0, 0, 0],\n",
        "              [0, 0, 0, 0],\n",
        "              [0, 0, 0, 0]\n",
        "             ]\n",
        "\n",
        "    if solveNQUtil(board, 0) == False:\n",
        "        print (\"Solution does not exist\")\n",
        "        return False\n",
        "\n",
        "    printSolution(board)\n",
        "    return True\n",
        "\n",
        "\n",
        "solveNQ()"
      ]
    },
    {
      "cell_type": "markdown",
      "source": [
        "## Q2. Write a Program to Implement Astar Problem using Python."
      ],
      "metadata": {
        "id": "nYtG_oYBs-Uh"
      }
    },
    {
      "cell_type": "code",
      "source": [
        "from queue import PriorityQueue\n",
        "\n",
        "# Define the A* algorithm\n",
        "def astar(graph, start, goal):\n",
        "    # Priority queue for the open set (nodes to be evaluated)\n",
        "    open_set = PriorityQueue()\n",
        "    open_set.put((0, start))\n",
        "\n",
        "    # Dictionaries for tracking the best path and cost\n",
        "    came_from = {}\n",
        "    g_score = {node: float('inf') for node in graph}\n",
        "    g_score[start] = 0\n",
        "    f_score = {node: float('inf') for node in graph}\n",
        "    f_score[start] = heuristic(start, goal)\n",
        "    while not open_set.empty():\n",
        "        current = open_set.get()[1]\n",
        "        if current == goal:\n",
        "            return reconstruct_path(came_from, current)\n",
        "\n",
        "        for neighbor, cost in graph[current]:\n",
        "            tentative_g_score = g_score[current] + cost\n",
        "\n",
        "            if tentative_g_score < g_score[neighbor]:\n",
        "                came_from[neighbor] = current\n",
        "                g_score[neighbor] = tentative_g_score\n",
        "                f_score[neighbor] = g_score[neighbor] + heuristic(neighbor, goal)\n",
        "                open_set.put((f_score[neighbor], neighbor))\n",
        "\n",
        "    return None\n",
        "\n",
        "# Heuristic function (Manhattan distance)\n",
        "def heuristic(node, goal):\n",
        "    return abs(node[0] - goal[0]) + abs(node[1] - goal[1])\n",
        "\n",
        "# Reconstruct the path from the start to the goal\n",
        "def reconstruct_path(came_from, current):\n",
        "    total_path = [current]\n",
        "    while current in came_from:\n",
        "        current = came_from[current]\n",
        "        total_path.append(current)\n",
        "    total_path.reverse()\n",
        "    return total_path\n",
        "\n",
        "\n",
        "\n",
        "if __name__ == \"__main__\":\n",
        "    graph = {\n",
        "        (0, 0): [((1, 0), 1), ((0, 1), 1)],\n",
        "        (1, 0): [((1, 1), 1), ((0, 0), 1)],\n",
        "        (0, 1): [((1, 1), 1), ((0, 0), 1)],\n",
        "        (1, 1): [((1, 0), 1), ((0, 1), 1), ((2, 1), 1)],\n",
        "        (2, 1): [((1, 1), 1), ((2, 2), 1)],\n",
        "        (2, 2): [((2, 1), 1)]\n",
        "    }\n",
        "\n",
        "    start = (0, 0)\n",
        "    goal = (2, 2)\n",
        "    path = astar(graph, start, goal)\n",
        "\n",
        "    if path:\n",
        "        print(\"Path found:\", path)\n",
        "    else:\n",
        "        print(\"No path found\")\n"
      ],
      "metadata": {
        "colab": {
          "base_uri": "https://localhost:8080/"
        },
        "id": "9Vu4bQrcq5cn",
        "outputId": "e557b5c1-7622-49a4-a261-a69efb28ab91"
      },
      "execution_count": 9,
      "outputs": [
        {
          "output_type": "stream",
          "name": "stdout",
          "text": [
            "Path found: [(0, 0), (0, 1), (1, 1), (2, 1), (2, 2)]\n"
          ]
        }
      ]
    },
    {
      "cell_type": "markdown",
      "source": [
        "## Q3. Write a Program to Implement Uniform cost search using Python."
      ],
      "metadata": {
        "id": "0ECiInELu-1E"
      }
    },
    {
      "cell_type": "code",
      "source": [
        "def  uniform_cost_search(goal, start):\n",
        "\n",
        "    global graph,cost\n",
        "    answer = []\n",
        "\n",
        "    queue = []\n",
        "\n",
        "    # set the answer vector to max value\n",
        "    for i in range(len(goal)):\n",
        "        answer.append(10**8)\n",
        "\n",
        "    queue.append([0, start])\n",
        "    visited = {}\n",
        "    count = 0\n",
        "\n",
        "    while (len(queue) > 0):\n",
        "\n",
        "        queue = sorted(queue)\n",
        "        p = queue[-1]\n",
        "        del queue[-1]\n",
        "        p[0] *= -1\n",
        "\n",
        "        if (p[1] in goal):\n",
        "\n",
        "            index = goal.index(p[1])\n",
        "\n",
        "            if (answer[index] == 10**8):\n",
        "                count += 1\n",
        "\n",
        "            if (answer[index] > p[0]):\n",
        "                answer[index] = p[0]\n",
        "\n",
        "            del queue[-1]\n",
        "\n",
        "            queue = sorted(queue)\n",
        "            if (count == len(goal)):\n",
        "                return answer\n",
        "\n",
        "        # check for the non visited nodes\n",
        "        # which are adjacent to present node\n",
        "        if (p[1] not in visited):\n",
        "            for i in range(len(graph[p[1]])):\n",
        "\n",
        "                # value is multiplied by -1 so that\n",
        "                # least priority is at the top\n",
        "                queue.append( [(p[0] + cost[(p[1], graph[p[1]][i])])* -1, graph[p[1]][i]])\n",
        "\n",
        "        visited[p[1]] = 1\n",
        "\n",
        "    return answer\n",
        "\n",
        "if __name__ == '__main__':\n",
        "    graph,cost = [[] for i in range(8)],{}\n",
        "\n",
        "    graph[0].append(1)\n",
        "    graph[0].append(3)\n",
        "    graph[3].append(1)\n",
        "    graph[3].append(6)\n",
        "    graph[3].append(4)\n",
        "    graph[1].append(6)\n",
        "    graph[4].append(2)\n",
        "    graph[4].append(5)\n",
        "    graph[2].append(1)\n",
        "    graph[5].append(2)\n",
        "    graph[5].append(6)\n",
        "    graph[6].append(4)\n",
        "\n",
        "    cost[(0, 1)] = 2\n",
        "    cost[(0, 3)] = 5\n",
        "    cost[(1, 6)] = 1\n",
        "    cost[(3, 1)] = 5\n",
        "    cost[(3, 6)] = 6\n",
        "    cost[(3, 4)] = 2\n",
        "    cost[(2, 1)] = 4\n",
        "    cost[(4, 2)] = 4\n",
        "    cost[(4, 5)] = 3\n",
        "    cost[(5, 2)] = 6\n",
        "    cost[(5, 6)] = 3\n",
        "    cost[(6, 4)] = 7\n",
        "\n",
        "    goal = []\n",
        "    goal.append(6)\n",
        "    answer = uniform_cost_search(goal, 0)\n",
        "    print(\"Minimum cost from 0 to 6 is = \",answer[0])"
      ],
      "metadata": {
        "colab": {
          "base_uri": "https://localhost:8080/"
        },
        "id": "7z_gFOiZt6Fw",
        "outputId": "5fd862bc-5f43-468d-9d39-e40ab0cfed4c"
      },
      "execution_count": 10,
      "outputs": [
        {
          "output_type": "stream",
          "name": "stdout",
          "text": [
            "Minimum cost from 0 to 6 is =  3\n"
          ]
        }
      ]
    },
    {
      "cell_type": "markdown",
      "source": [
        "## Q4.Write a Program to Implement Pancake Problem using Python."
      ],
      "metadata": {
        "id": "OhXveDlmwrYJ"
      }
    },
    {
      "cell_type": "code",
      "source": [
        "# Python program of Pancake Sorting Problem\n",
        "def ceilSearch(arr,low,high,x):\n",
        "\tif x <= arr[low]:\n",
        "\t\treturn low\n",
        "\tif x > arr[high]:\n",
        "\t\treturn -1\n",
        "\n",
        "\tmid = (low + high)//2\n",
        "\n",
        "\tif(arr[mid] == x):\n",
        "\t\treturn mid\n",
        "\tif(arr[mid] < x):\n",
        "\t\tif(mid + 1 <= high and x <= arr[mid+1]):\n",
        "\t\t\treturn mid + 1\n",
        "\t\telse:\n",
        "\t\t\treturn ceilSearch(arr, mid+1, high, x)\n",
        "\n",
        "\tif (mid - 1 >= low and x > arr[mid-1]):\n",
        "\t\treturn mid\n",
        "\telse:\n",
        "\t\treturn ceilSearch(arr, low, mid - 1, x)\n",
        "\n",
        "def flip(arr,i):\n",
        "\n",
        "\tstart = 0;\n",
        "\twhile (start < i):\n",
        "\t\ttemp = arr[start]\n",
        "\t\tarr[start] = arr[i]\n",
        "\t\tarr[i] = temp\n",
        "\t\tstart+=1\n",
        "\t\ti-=1\n",
        "\n",
        "def insertionSort(arr):\n",
        "\tfor i in range(1,len(arr)):\n",
        "\t\tj = ceilSearch(arr, 0, i-1, arr[i])\n",
        "\t\tif (j != -1):\n",
        "\t\t\tflip(arr, j-1)\n",
        "\t\t\tflip(arr, i-1)\n",
        "\t\t\tflip(arr, i)\n",
        "\t\t\tflip(arr, j)\n",
        "def printArray(arr):\n",
        "\n",
        "\tfor i in range(0,len(arr)):\n",
        "\t\tprint(arr[i],end=\" \")\n",
        "\n",
        "\n",
        "arr=[18, 40, 35, 12, 30, 35, 20, 6, 90, 80]\n",
        "insertionSort(arr)\n",
        "print(\"The Answer of the Pancake Sorting Problem is: \")\n",
        "printArray(arr)\n",
        "\n",
        "\n"
      ],
      "metadata": {
        "colab": {
          "base_uri": "https://localhost:8080/"
        },
        "id": "MMRbVC3vwT7Q",
        "outputId": "f88a94bc-6426-4136-897b-7684ab2a07d8"
      },
      "execution_count": 14,
      "outputs": [
        {
          "output_type": "stream",
          "name": "stdout",
          "text": [
            "The Answer of the Pancake Sorting Problem is: \n",
            "6 12 18 20 30 35 35 40 80 90 "
          ]
        }
      ]
    },
    {
      "cell_type": "code",
      "source": [],
      "metadata": {
        "id": "Kk52231jybEE"
      },
      "execution_count": null,
      "outputs": []
    }
  ]
}